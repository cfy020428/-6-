{
 "cells": [
  {
   "cell_type": "code",
   "execution_count": 1,
   "metadata": {
    "collapsed": false
   },
   "outputs": [],
   "source": [
    "from sklearn.model_selection import train_test_split,cross_val_score,GridSearchCV\r\n",
    "from sklearn.ensemble import RandomForestClassifier\r\n",
    "from sklearn.metrics import roc_curve, auc,roc_auc_score\r\n",
    "from sklearn.metrics import accuracy_score"
   ]
  },
  {
   "cell_type": "code",
   "execution_count": 4,
   "metadata": {
    "collapsed": false
   },
   "outputs": [
    {
     "name": "stdout",
     "output_type": "stream",
     "text": [
      "Populating the interactive namespace from numpy and matplotlib\n"
     ]
    }
   ],
   "source": [
    "import pandas as pd\n",
    "import paddle\n",
    "import numpy as np\n",
    "%pylab inline\n",
    "import seaborn as sns\n",
    "\n",
    "\n",
    "train_df = pd.read_csv('data/data137276/train.csv.zip')\n",
    "test_df = pd.read_csv('data/data137276/test.csv.zip')\n",
    "# ,'pentakills','quadrakills','triplekills'\n",
    "train_df = train_df.drop(['id', 'timecc' ], axis=1)#删除列\n",
    "test_df = test_df.drop(['id', 'timecc'], axis=1)\n",
    "\n"
   ]
  },
  {
   "cell_type": "code",
   "execution_count": 5,
   "metadata": {
    "collapsed": false
   },
   "outputs": [],
   "source": [
    "corr = abs(train_df.corr().loc['win']) \r\n",
    "corr = corr[corr<0.08] \r\n",
    "cols_to_drop = corr.index.to_list() \r\n",
    "train_df = train_df.drop(cols_to_drop, axis=1)\r\n",
    "test_df = test_df.drop(cols_to_drop, axis=1)"
   ]
  },
  {
   "cell_type": "code",
   "execution_count": 6,
   "metadata": {
    "collapsed": false
   },
   "outputs": [
    {
     "name": "stderr",
     "output_type": "stream",
     "text": [
      "/opt/conda/envs/python35-paddle120-env/lib/python3.7/site-packages/matplotlib/cbook/__init__.py:2349: DeprecationWarning: Using or importing the ABCs from 'collections' instead of from 'collections.abc' is deprecated, and in 3.8 it will stop working\n",
      "  if isinstance(obj, collections.Iterator):\n"
     ]
    },
    {
     "data": {
      "text/plain": [
       "<matplotlib.axes._subplots.AxesSubplot at 0x7fe1375798d0>"
      ]
     },
     "execution_count": 6,
     "metadata": {},
     "output_type": "execute_result"
    },
    {
     "data": {
      "image/png": "[encoded data removed]",
      "text/plain": [
       "<Figure size 288x720 with 1 Axes>"
      ]
     },
     "metadata": {},
     "output_type": "display_data"
    }
   ],
   "source": [
    "train_df.corr().loc['win'] .plot(kind='barh', figsize=(4,10))"
   ]
  },
  {
   "cell_type": "code",
   "execution_count": 11,
   "metadata": {
    "collapsed": false
   },
   "outputs": [],
   "source": [
    "# y = train_df.win\r\n",
    "# x = train_df.drop('win',axis = 1)\r\n",
    "# seed =5\r\n",
    "# xtrain,xtest,ytrain,ytest = train_test_split(x,y,test_size=0.3,random_state = seed)"
   ]
  },
  {
   "cell_type": "code",
   "execution_count": null,
   "metadata": {
    "collapsed": false
   },
   "outputs": [],
   "source": []
  },
  {
   "cell_type": "markdown",
   "metadata": {
    "collapsed": false
   },
   "source": [
    "## 数据分析"
   ]
  },
  {
   "cell_type": "code",
   "execution_count": null,
   "metadata": {
    "collapsed": false
   },
   "outputs": [],
   "source": [
    "train_df.isnull().mean(0)#缺省值以及比例"
   ]
  },
  {
   "cell_type": "code",
   "execution_count": null,
   "metadata": {
    "collapsed": false
   },
   "outputs": [
    {
     "data": {
      "text/html": [
       "<div>\n",
       "<style scoped>\n",
       "    .dataframe tbody tr th:only-of-type {\n",
       "        vertical-align: middle;\n",
       "    }\n",
       "\n",
       "    .dataframe tbody tr th {\n",
       "        vertical-align: top;\n",
       "    }\n",
       "\n",
       "    .dataframe thead th {\n",
       "        text-align: right;\n",
       "    }\n",
       "</style>\n",
       "<table border=\"1\" class=\"dataframe\">\n",
       "  <thead>\n",
       "    <tr style=\"text-align: right;\">\n",
       "      <th></th>\n",
       "      <th>win</th>\n",
       "      <th>kills</th>\n",
       "      <th>deaths</th>\n",
       "      <th>assists</th>\n",
       "      <th>largestkillingspree</th>\n",
       "      <th>largestmultikill</th>\n",
       "      <th>longesttimespentliving</th>\n",
       "      <th>doublekills</th>\n",
       "      <th>triplekills</th>\n",
       "      <th>quadrakills</th>\n",
       "      <th>...</th>\n",
       "      <th>totheal</th>\n",
       "      <th>totunitshealed</th>\n",
       "      <th>dmgtoturrets</th>\n",
       "      <th>totdmgtaken</th>\n",
       "      <th>magicdmgtaken</th>\n",
       "      <th>physdmgtaken</th>\n",
       "      <th>truedmgtaken</th>\n",
       "      <th>wardsplaced</th>\n",
       "      <th>wardskilled</th>\n",
       "      <th>firstblood</th>\n",
       "    </tr>\n",
       "  </thead>\n",
       "  <tbody>\n",
       "    <tr>\n",
       "      <th>win</th>\n",
       "      <td>1.000000</td>\n",
       "      <td>0.262337</td>\n",
       "      <td>-0.365656</td>\n",
       "      <td>0.305833</td>\n",
       "      <td>0.316502</td>\n",
       "      <td>0.210101</td>\n",
       "      <td>0.114497</td>\n",
       "      <td>0.204081</td>\n",
       "      <td>0.127686</td>\n",
       "      <td>0.062081</td>\n",
       "      <td>...</td>\n",
       "      <td>0.113540</td>\n",
       "      <td>0.044049</td>\n",
       "      <td>0.385483</td>\n",
       "      <td>-0.074434</td>\n",
       "      <td>-0.091173</td>\n",
       "      <td>-0.046872</td>\n",
       "      <td>-0.039278</td>\n",
       "      <td>0.030433</td>\n",
       "      <td>0.036427</td>\n",
       "      <td>0.064175</td>\n",
       "    </tr>\n",
       "    <tr>\n",
       "      <th>kills</th>\n",
       "      <td>0.262337</td>\n",
       "      <td>1.000000</td>\n",
       "      <td>0.171691</td>\n",
       "      <td>0.084407</td>\n",
       "      <td>0.806148</td>\n",
       "      <td>0.703828</td>\n",
       "      <td>0.137055</td>\n",
       "      <td>0.720063</td>\n",
       "      <td>0.416447</td>\n",
       "      <td>0.203719</td>\n",
       "      <td>...</td>\n",
       "      <td>0.173288</td>\n",
       "      <td>-0.169901</td>\n",
       "      <td>0.388956</td>\n",
       "      <td>0.392549</td>\n",
       "      <td>0.326306</td>\n",
       "      <td>0.346894</td>\n",
       "      <td>0.225831</td>\n",
       "      <td>-0.035084</td>\n",
       "      <td>-0.025995</td>\n",
       "      <td>0.198372</td>\n",
       "    </tr>\n",
       "    <tr>\n",
       "      <th>deaths</th>\n",
       "      <td>-0.365656</td>\n",
       "      <td>0.171691</td>\n",
       "      <td>1.000000</td>\n",
       "      <td>0.156695</td>\n",
       "      <td>-0.133511</td>\n",
       "      <td>0.124119</td>\n",
       "      <td>-0.221939</td>\n",
       "      <td>0.065552</td>\n",
       "      <td>0.016405</td>\n",
       "      <td>0.001487</td>\n",
       "      <td>...</td>\n",
       "      <td>0.111339</td>\n",
       "      <td>-0.004902</td>\n",
       "      <td>-0.068392</td>\n",
       "      <td>0.581940</td>\n",
       "      <td>0.535828</td>\n",
       "      <td>0.484942</td>\n",
       "      <td>0.302221</td>\n",
       "      <td>0.172751</td>\n",
       "      <td>0.066750</td>\n",
       "      <td>0.002883</td>\n",
       "    </tr>\n",
       "    <tr>\n",
       "      <th>assists</th>\n",
       "      <td>0.305833</td>\n",
       "      <td>0.084407</td>\n",
       "      <td>0.156695</td>\n",
       "      <td>1.000000</td>\n",
       "      <td>0.024763</td>\n",
       "      <td>0.050567</td>\n",
       "      <td>0.213380</td>\n",
       "      <td>0.009992</td>\n",
       "      <td>-0.009209</td>\n",
       "      <td>-0.008608</td>\n",
       "      <td>...</td>\n",
       "      <td>0.355378</td>\n",
       "      <td>0.367860</td>\n",
       "      <td>0.056894</td>\n",
       "      <td>0.343705</td>\n",
       "      <td>0.336371</td>\n",
       "      <td>0.270750</td>\n",
       "      <td>0.193364</td>\n",
       "      <td>0.512302</td>\n",
       "      <td>0.343283</td>\n",
       "      <td>-0.029702</td>\n",
       "    </tr>\n",
       "    <tr>\n",
       "      <th>largestkillingspree</th>\n",
       "      <td>0.316502</td>\n",
       "      <td>0.806148</td>\n",
       "      <td>-0.133511</td>\n",
       "      <td>0.024763</td>\n",
       "      <td>1.000000</td>\n",
       "      <td>0.627999</td>\n",
       "      <td>0.240254</td>\n",
       "      <td>0.611156</td>\n",
       "      <td>0.366198</td>\n",
       "      <td>0.181852</td>\n",
       "      <td>...</td>\n",
       "      <td>0.117962</td>\n",
       "      <td>-0.157788</td>\n",
       "      <td>0.371584</td>\n",
       "      <td>0.184669</td>\n",
       "      <td>0.132382</td>\n",
       "      <td>0.176682</td>\n",
       "      <td>0.109635</td>\n",
       "      <td>-0.076637</td>\n",
       "      <td>-0.043029</td>\n",
       "      <td>0.154956</td>\n",
       "    </tr>\n",
       "    <tr>\n",
       "      <th>largestmultikill</th>\n",
       "      <td>0.210101</td>\n",
       "      <td>0.703828</td>\n",
       "      <td>0.124119</td>\n",
       "      <td>0.050567</td>\n",
       "      <td>0.627999</td>\n",
       "      <td>1.000000</td>\n",
       "      <td>0.138380</td>\n",
       "      <td>0.762963</td>\n",
       "      <td>0.612354</td>\n",
       "      <td>0.367186</td>\n",
       "      <td>...</td>\n",
       "      <td>0.109470</td>\n",
       "      <td>-0.109097</td>\n",
       "      <td>0.318525</td>\n",
       "      <td>0.268430</td>\n",
       "      <td>0.213663</td>\n",
       "      <td>0.244781</td>\n",
       "      <td>0.146630</td>\n",
       "      <td>-0.034874</td>\n",
       "      <td>-0.019475</td>\n",
       "      <td>0.119841</td>\n",
       "    </tr>\n",
       "    <tr>\n",
       "      <th>longesttimespentliving</th>\n",
       "      <td>0.114497</td>\n",
       "      <td>0.137055</td>\n",
       "      <td>-0.221939</td>\n",
       "      <td>0.213380</td>\n",
       "      <td>0.240254</td>\n",
       "      <td>0.138380</td>\n",
       "      <td>1.000000</td>\n",
       "      <td>0.076882</td>\n",
       "      <td>0.039239</td>\n",
       "      <td>0.016650</td>\n",
       "      <td>...</td>\n",
       "      <td>0.191023</td>\n",
       "      <td>0.093827</td>\n",
       "      <td>0.119823</td>\n",
       "      <td>0.162588</td>\n",
       "      <td>0.144485</td>\n",
       "      <td>0.138335</td>\n",
       "      <td>0.088238</td>\n",
       "      <td>0.214055</td>\n",
       "      <td>0.164634</td>\n",
       "      <td>0.003635</td>\n",
       "    </tr>\n",
       "    <tr>\n",
       "      <th>doublekills</th>\n",
       "      <td>0.204081</td>\n",
       "      <td>0.720063</td>\n",
       "      <td>0.065552</td>\n",
       "      <td>0.009992</td>\n",
       "      <td>0.611156</td>\n",
       "      <td>0.762963</td>\n",
       "      <td>0.076882</td>\n",
       "      <td>1.000000</td>\n",
       "      <td>0.497732</td>\n",
       "      <td>0.224135</td>\n",
       "      <td>...</td>\n",
       "      <td>0.086119</td>\n",
       "      <td>-0.079782</td>\n",
       "      <td>0.305171</td>\n",
       "      <td>0.193588</td>\n",
       "      <td>0.160945</td>\n",
       "      <td>0.170560</td>\n",
       "      <td>0.114395</td>\n",
       "      <td>-0.061255</td>\n",
       "      <td>-0.029996</td>\n",
       "      <td>0.103435</td>\n",
       "    </tr>\n",
       "    <tr>\n",
       "      <th>triplekills</th>\n",
       "      <td>0.127686</td>\n",
       "      <td>0.416447</td>\n",
       "      <td>0.016405</td>\n",
       "      <td>-0.009209</td>\n",
       "      <td>0.366198</td>\n",
       "      <td>0.612354</td>\n",
       "      <td>0.039239</td>\n",
       "      <td>0.497732</td>\n",
       "      <td>1.000000</td>\n",
       "      <td>0.427355</td>\n",
       "      <td>...</td>\n",
       "      <td>0.042889</td>\n",
       "      <td>-0.028413</td>\n",
       "      <td>0.188164</td>\n",
       "      <td>0.089947</td>\n",
       "      <td>0.072939</td>\n",
       "      <td>0.079403</td>\n",
       "      <td>0.059691</td>\n",
       "      <td>-0.035451</td>\n",
       "      <td>-0.012398</td>\n",
       "      <td>0.053507</td>\n",
       "    </tr>\n",
       "    <tr>\n",
       "      <th>quadrakills</th>\n",
       "      <td>0.062081</td>\n",
       "      <td>0.203719</td>\n",
       "      <td>0.001487</td>\n",
       "      <td>-0.008608</td>\n",
       "      <td>0.181852</td>\n",
       "      <td>0.367186</td>\n",
       "      <td>0.016650</td>\n",
       "      <td>0.224135</td>\n",
       "      <td>0.427355</td>\n",
       "      <td>1.000000</td>\n",
       "      <td>...</td>\n",
       "      <td>0.018875</td>\n",
       "      <td>-0.008009</td>\n",
       "      <td>0.095294</td>\n",
       "      <td>0.036405</td>\n",
       "      <td>0.027332</td>\n",
       "      <td>0.033002</td>\n",
       "      <td>0.027776</td>\n",
       "      <td>-0.015755</td>\n",
       "      <td>-0.007188</td>\n",
       "      <td>0.018706</td>\n",
       "    </tr>\n",
       "    <tr>\n",
       "      <th>pentakills</th>\n",
       "      <td>0.030706</td>\n",
       "      <td>0.099763</td>\n",
       "      <td>-0.003751</td>\n",
       "      <td>-0.003910</td>\n",
       "      <td>0.090848</td>\n",
       "      <td>0.193651</td>\n",
       "      <td>0.009352</td>\n",
       "      <td>0.105793</td>\n",
       "      <td>0.192231</td>\n",
       "      <td>0.426513</td>\n",
       "      <td>...</td>\n",
       "      <td>0.007594</td>\n",
       "      <td>-0.001152</td>\n",
       "      <td>0.053878</td>\n",
       "      <td>0.012927</td>\n",
       "      <td>0.011559</td>\n",
       "      <td>0.010877</td>\n",
       "      <td>0.007474</td>\n",
       "      <td>-0.007802</td>\n",
       "      <td>-0.001758</td>\n",
       "      <td>0.008812</td>\n",
       "    </tr>\n",
       "    <tr>\n",
       "      <th>totdmgdealt</th>\n",
       "      <td>0.132532</td>\n",
       "      <td>0.610604</td>\n",
       "      <td>0.255345</td>\n",
       "      <td>0.081615</td>\n",
       "      <td>0.470836</td>\n",
       "      <td>0.465606</td>\n",
       "      <td>0.230730</td>\n",
       "      <td>0.404285</td>\n",
       "      <td>0.220969</td>\n",
       "      <td>0.101673</td>\n",
       "      <td>...</td>\n",
       "      <td>0.289312</td>\n",
       "      <td>-0.186066</td>\n",
       "      <td>0.395461</td>\n",
       "      <td>0.563064</td>\n",
       "      <td>0.456815</td>\n",
       "      <td>0.508372</td>\n",
       "      <td>0.303590</td>\n",
       "      <td>-0.025779</td>\n",
       "      <td>0.012108</td>\n",
       "      <td>0.089699</td>\n",
       "    </tr>\n",
       "    <tr>\n",
       "      <th>magicdmgdealt</th>\n",
       "      <td>0.040741</td>\n",
       "      <td>0.243935</td>\n",
       "      <td>0.137341</td>\n",
       "      <td>0.148025</td>\n",
       "      <td>0.184578</td>\n",
       "      <td>0.143240</td>\n",
       "      <td>0.132894</td>\n",
       "      <td>0.093470</td>\n",
       "      <td>0.026395</td>\n",
       "      <td>0.003771</td>\n",
       "      <td>...</td>\n",
       "      <td>0.153028</td>\n",
       "      <td>-0.189863</td>\n",
       "      <td>0.058399</td>\n",
       "      <td>0.214978</td>\n",
       "      <td>0.276185</td>\n",
       "      <td>0.125589</td>\n",
       "      <td>0.120975</td>\n",
       "      <td>0.083232</td>\n",
       "      <td>0.015956</td>\n",
       "      <td>0.007429</td>\n",
       "    </tr>\n",
       "    <tr>\n",
       "      <th>physicaldmgdealt</th>\n",
       "      <td>0.098151</td>\n",
       "      <td>0.463880</td>\n",
       "      <td>0.177482</td>\n",
       "      <td>-0.045307</td>\n",
       "      <td>0.358818</td>\n",
       "      <td>0.383146</td>\n",
       "      <td>0.131334</td>\n",
       "      <td>0.356080</td>\n",
       "      <td>0.211123</td>\n",
       "      <td>0.101993</td>\n",
       "      <td>...</td>\n",
       "      <td>0.153808</td>\n",
       "      <td>-0.099469</td>\n",
       "      <td>0.370958</td>\n",
       "      <td>0.417409</td>\n",
       "      <td>0.272227</td>\n",
       "      <td>0.420981</td>\n",
       "      <td>0.225374</td>\n",
       "      <td>-0.094084</td>\n",
       "      <td>-0.011293</td>\n",
       "      <td>0.089053</td>\n",
       "    </tr>\n",
       "    <tr>\n",
       "      <th>truedmgdealt</th>\n",
       "      <td>0.041786</td>\n",
       "      <td>0.033586</td>\n",
       "      <td>-0.011322</td>\n",
       "      <td>0.088428</td>\n",
       "      <td>0.030060</td>\n",
       "      <td>0.026821</td>\n",
       "      <td>0.061350</td>\n",
       "      <td>0.017490</td>\n",
       "      <td>0.011775</td>\n",
       "      <td>0.008499</td>\n",
       "      <td>...</td>\n",
       "      <td>0.140528</td>\n",
       "      <td>0.110475</td>\n",
       "      <td>0.018267</td>\n",
       "      <td>0.085024</td>\n",
       "      <td>0.054874</td>\n",
       "      <td>0.088111</td>\n",
       "      <td>0.033823</td>\n",
       "      <td>0.027671</td>\n",
       "      <td>0.040474</td>\n",
       "      <td>0.001467</td>\n",
       "    </tr>\n",
       "    <tr>\n",
       "      <th>largestcrit</th>\n",
       "      <td>0.082603</td>\n",
       "      <td>0.316027</td>\n",
       "      <td>0.102608</td>\n",
       "      <td>-0.038490</td>\n",
       "      <td>0.247007</td>\n",
       "      <td>0.281028</td>\n",
       "      <td>0.063038</td>\n",
       "      <td>0.280355</td>\n",
       "      <td>0.174542</td>\n",
       "      <td>0.089874</td>\n",
       "      <td>...</td>\n",
       "      <td>0.033451</td>\n",
       "      <td>0.028372</td>\n",
       "      <td>0.304643</td>\n",
       "      <td>0.093487</td>\n",
       "      <td>0.087460</td>\n",
       "      <td>0.080762</td>\n",
       "      <td>0.025470</td>\n",
       "      <td>-0.127986</td>\n",
       "      <td>-0.030940</td>\n",
       "      <td>0.049769</td>\n",
       "    </tr>\n",
       "    <tr>\n",
       "      <th>totdmgtochamp</th>\n",
       "      <td>0.143570</td>\n",
       "      <td>0.768368</td>\n",
       "      <td>0.363282</td>\n",
       "      <td>0.265386</td>\n",
       "      <td>0.549073</td>\n",
       "      <td>0.537301</td>\n",
       "      <td>0.189312</td>\n",
       "      <td>0.520458</td>\n",
       "      <td>0.290825</td>\n",
       "      <td>0.138533</td>\n",
       "      <td>...</td>\n",
       "      <td>0.210649</td>\n",
       "      <td>-0.115324</td>\n",
       "      <td>0.368167</td>\n",
       "      <td>0.539885</td>\n",
       "      <td>0.509756</td>\n",
       "      <td>0.434717</td>\n",
       "      <td>0.321758</td>\n",
       "      <td>0.094337</td>\n",
       "      <td>0.070396</td>\n",
       "      <td>0.106820</td>\n",
       "    </tr>\n",
       "    <tr>\n",
       "      <th>magicdmgtochamp</th>\n",
       "      <td>0.059749</td>\n",
       "      <td>0.288513</td>\n",
       "      <td>0.185264</td>\n",
       "      <td>0.270347</td>\n",
       "      <td>0.197850</td>\n",
       "      <td>0.158079</td>\n",
       "      <td>0.121261</td>\n",
       "      <td>0.122486</td>\n",
       "      <td>0.042025</td>\n",
       "      <td>0.010217</td>\n",
       "      <td>...</td>\n",
       "      <td>0.119229</td>\n",
       "      <td>-0.108042</td>\n",
       "      <td>0.042213</td>\n",
       "      <td>0.191267</td>\n",
       "      <td>0.288363</td>\n",
       "      <td>0.082773</td>\n",
       "      <td>0.111350</td>\n",
       "      <td>0.179858</td>\n",
       "      <td>0.080745</td>\n",
       "      <td>0.011310</td>\n",
       "    </tr>\n",
       "    <tr>\n",
       "      <th>physdmgtochamp</th>\n",
       "      <td>0.100220</td>\n",
       "      <td>0.559084</td>\n",
       "      <td>0.217822</td>\n",
       "      <td>0.035744</td>\n",
       "      <td>0.409062</td>\n",
       "      <td>0.430772</td>\n",
       "      <td>0.091747</td>\n",
       "      <td>0.444404</td>\n",
       "      <td>0.270093</td>\n",
       "      <td>0.135950</td>\n",
       "      <td>...</td>\n",
       "      <td>0.097246</td>\n",
       "      <td>-0.032362</td>\n",
       "      <td>0.363706</td>\n",
       "      <td>0.390611</td>\n",
       "      <td>0.274821</td>\n",
       "      <td>0.375971</td>\n",
       "      <td>0.239247</td>\n",
       "      <td>-0.070610</td>\n",
       "      <td>-0.006872</td>\n",
       "      <td>0.104565</td>\n",
       "    </tr>\n",
       "    <tr>\n",
       "      <th>truedmgtochamp</th>\n",
       "      <td>0.059295</td>\n",
       "      <td>0.356921</td>\n",
       "      <td>0.174296</td>\n",
       "      <td>0.110971</td>\n",
       "      <td>0.244290</td>\n",
       "      <td>0.255343</td>\n",
       "      <td>0.082745</td>\n",
       "      <td>0.256235</td>\n",
       "      <td>0.160773</td>\n",
       "      <td>0.087851</td>\n",
       "      <td>...</td>\n",
       "      <td>0.210368</td>\n",
       "      <td>0.000278</td>\n",
       "      <td>0.133736</td>\n",
       "      <td>0.329120</td>\n",
       "      <td>0.270525</td>\n",
       "      <td>0.295720</td>\n",
       "      <td>0.171946</td>\n",
       "      <td>0.070511</td>\n",
       "      <td>0.077438</td>\n",
       "      <td>0.049892</td>\n",
       "    </tr>\n",
       "    <tr>\n",
       "      <th>totheal</th>\n",
       "      <td>0.113540</td>\n",
       "      <td>0.173288</td>\n",
       "      <td>0.111339</td>\n",
       "      <td>0.355378</td>\n",
       "      <td>0.117962</td>\n",
       "      <td>0.109470</td>\n",
       "      <td>0.191023</td>\n",
       "      <td>0.086119</td>\n",
       "      <td>0.042889</td>\n",
       "      <td>0.018875</td>\n",
       "      <td>...</td>\n",
       "      <td>1.000000</td>\n",
       "      <td>0.191003</td>\n",
       "      <td>0.037684</td>\n",
       "      <td>0.591647</td>\n",
       "      <td>0.420167</td>\n",
       "      <td>0.570191</td>\n",
       "      <td>0.342115</td>\n",
       "      <td>0.253318</td>\n",
       "      <td>0.212286</td>\n",
       "      <td>0.022401</td>\n",
       "    </tr>\n",
       "    <tr>\n",
       "      <th>totunitshealed</th>\n",
       "      <td>0.044049</td>\n",
       "      <td>-0.169901</td>\n",
       "      <td>-0.004902</td>\n",
       "      <td>0.367860</td>\n",
       "      <td>-0.157788</td>\n",
       "      <td>-0.109097</td>\n",
       "      <td>0.093827</td>\n",
       "      <td>-0.079782</td>\n",
       "      <td>-0.028413</td>\n",
       "      <td>-0.008009</td>\n",
       "      <td>...</td>\n",
       "      <td>0.191003</td>\n",
       "      <td>1.000000</td>\n",
       "      <td>-0.035830</td>\n",
       "      <td>-0.036626</td>\n",
       "      <td>0.014583</td>\n",
       "      <td>-0.061117</td>\n",
       "      <td>-0.028374</td>\n",
       "      <td>0.338090</td>\n",
       "      <td>0.261115</td>\n",
       "      <td>-0.050891</td>\n",
       "    </tr>\n",
       "    <tr>\n",
       "      <th>dmgtoturrets</th>\n",
       "      <td>0.385483</td>\n",
       "      <td>0.388956</td>\n",
       "      <td>-0.068392</td>\n",
       "      <td>0.056894</td>\n",
       "      <td>0.371584</td>\n",
       "      <td>0.318525</td>\n",
       "      <td>0.119823</td>\n",
       "      <td>0.305171</td>\n",
       "      <td>0.188164</td>\n",
       "      <td>0.095294</td>\n",
       "      <td>...</td>\n",
       "      <td>0.037684</td>\n",
       "      <td>-0.035830</td>\n",
       "      <td>1.000000</td>\n",
       "      <td>0.084858</td>\n",
       "      <td>0.067415</td>\n",
       "      <td>0.074362</td>\n",
       "      <td>0.065348</td>\n",
       "      <td>-0.054143</td>\n",
       "      <td>-0.028465</td>\n",
       "      <td>0.078840</td>\n",
       "    </tr>\n",
       "    <tr>\n",
       "      <th>totdmgtaken</th>\n",
       "      <td>-0.074434</td>\n",
       "      <td>0.392549</td>\n",
       "      <td>0.581940</td>\n",
       "      <td>0.343705</td>\n",
       "      <td>0.184669</td>\n",
       "      <td>0.268430</td>\n",
       "      <td>0.162588</td>\n",
       "      <td>0.193588</td>\n",
       "      <td>0.089947</td>\n",
       "      <td>0.036405</td>\n",
       "      <td>...</td>\n",
       "      <td>0.591647</td>\n",
       "      <td>-0.036626</td>\n",
       "      <td>0.084858</td>\n",
       "      <td>1.000000</td>\n",
       "      <td>0.790281</td>\n",
       "      <td>0.914116</td>\n",
       "      <td>0.555868</td>\n",
       "      <td>0.277066</td>\n",
       "      <td>0.175701</td>\n",
       "      <td>0.054482</td>\n",
       "    </tr>\n",
       "    <tr>\n",
       "      <th>magicdmgtaken</th>\n",
       "      <td>-0.091173</td>\n",
       "      <td>0.326306</td>\n",
       "      <td>0.535828</td>\n",
       "      <td>0.336371</td>\n",
       "      <td>0.132382</td>\n",
       "      <td>0.213663</td>\n",
       "      <td>0.144485</td>\n",
       "      <td>0.160945</td>\n",
       "      <td>0.072939</td>\n",
       "      <td>0.027332</td>\n",
       "      <td>...</td>\n",
       "      <td>0.420167</td>\n",
       "      <td>0.014583</td>\n",
       "      <td>0.067415</td>\n",
       "      <td>0.790281</td>\n",
       "      <td>1.000000</td>\n",
       "      <td>0.487864</td>\n",
       "      <td>0.346751</td>\n",
       "      <td>0.288343</td>\n",
       "      <td>0.187241</td>\n",
       "      <td>0.026272</td>\n",
       "    </tr>\n",
       "    <tr>\n",
       "      <th>physdmgtaken</th>\n",
       "      <td>-0.046872</td>\n",
       "      <td>0.346894</td>\n",
       "      <td>0.484942</td>\n",
       "      <td>0.270750</td>\n",
       "      <td>0.176682</td>\n",
       "      <td>0.244781</td>\n",
       "      <td>0.138335</td>\n",
       "      <td>0.170560</td>\n",
       "      <td>0.079403</td>\n",
       "      <td>0.033002</td>\n",
       "      <td>...</td>\n",
       "      <td>0.570191</td>\n",
       "      <td>-0.061117</td>\n",
       "      <td>0.074362</td>\n",
       "      <td>0.914116</td>\n",
       "      <td>0.487864</td>\n",
       "      <td>1.000000</td>\n",
       "      <td>0.456651</td>\n",
       "      <td>0.209141</td>\n",
       "      <td>0.130067</td>\n",
       "      <td>0.059935</td>\n",
       "    </tr>\n",
       "    <tr>\n",
       "      <th>truedmgtaken</th>\n",
       "      <td>-0.039278</td>\n",
       "      <td>0.225831</td>\n",
       "      <td>0.302221</td>\n",
       "      <td>0.193364</td>\n",
       "      <td>0.109635</td>\n",
       "      <td>0.146630</td>\n",
       "      <td>0.088238</td>\n",
       "      <td>0.114395</td>\n",
       "      <td>0.059691</td>\n",
       "      <td>0.027776</td>\n",
       "      <td>...</td>\n",
       "      <td>0.342115</td>\n",
       "      <td>-0.028374</td>\n",
       "      <td>0.065348</td>\n",
       "      <td>0.555868</td>\n",
       "      <td>0.346751</td>\n",
       "      <td>0.456651</td>\n",
       "      <td>1.000000</td>\n",
       "      <td>0.141694</td>\n",
       "      <td>0.087655</td>\n",
       "      <td>0.036580</td>\n",
       "    </tr>\n",
       "    <tr>\n",
       "      <th>wardsplaced</th>\n",
       "      <td>0.030433</td>\n",
       "      <td>-0.035084</td>\n",
       "      <td>0.172751</td>\n",
       "      <td>0.512302</td>\n",
       "      <td>-0.076637</td>\n",
       "      <td>-0.034874</td>\n",
       "      <td>0.214055</td>\n",
       "      <td>-0.061255</td>\n",
       "      <td>-0.035451</td>\n",
       "      <td>-0.015755</td>\n",
       "      <td>...</td>\n",
       "      <td>0.253318</td>\n",
       "      <td>0.338090</td>\n",
       "      <td>-0.054143</td>\n",
       "      <td>0.277066</td>\n",
       "      <td>0.288343</td>\n",
       "      <td>0.209141</td>\n",
       "      <td>0.141694</td>\n",
       "      <td>1.000000</td>\n",
       "      <td>0.509371</td>\n",
       "      <td>-0.025348</td>\n",
       "    </tr>\n",
       "    <tr>\n",
       "      <th>wardskilled</th>\n",
       "      <td>0.036427</td>\n",
       "      <td>-0.025995</td>\n",
       "      <td>0.066750</td>\n",
       "      <td>0.343283</td>\n",
       "      <td>-0.043029</td>\n",
       "      <td>-0.019475</td>\n",
       "      <td>0.164634</td>\n",
       "      <td>-0.029996</td>\n",
       "      <td>-0.012398</td>\n",
       "      <td>-0.007188</td>\n",
       "      <td>...</td>\n",
       "      <td>0.212286</td>\n",
       "      <td>0.261115</td>\n",
       "      <td>-0.028465</td>\n",
       "      <td>0.175701</td>\n",
       "      <td>0.187241</td>\n",
       "      <td>0.130067</td>\n",
       "      <td>0.087655</td>\n",
       "      <td>0.509371</td>\n",
       "      <td>1.000000</td>\n",
       "      <td>-0.016072</td>\n",
       "    </tr>\n",
       "    <tr>\n",
       "      <th>firstblood</th>\n",
       "      <td>0.064175</td>\n",
       "      <td>0.198372</td>\n",
       "      <td>0.002883</td>\n",
       "      <td>-0.029702</td>\n",
       "      <td>0.154956</td>\n",
       "      <td>0.119841</td>\n",
       "      <td>0.003635</td>\n",
       "      <td>0.103435</td>\n",
       "      <td>0.053507</td>\n",
       "      <td>0.018706</td>\n",
       "      <td>...</td>\n",
       "      <td>0.022401</td>\n",
       "      <td>-0.050891</td>\n",
       "      <td>0.078840</td>\n",
       "      <td>0.054482</td>\n",
       "      <td>0.026272</td>\n",
       "      <td>0.059935</td>\n",
       "      <td>0.036580</td>\n",
       "      <td>-0.025348</td>\n",
       "      <td>-0.016072</td>\n",
       "      <td>1.000000</td>\n",
       "    </tr>\n",
       "  </tbody>\n",
       "</table>\n",
       "<p>30 rows × 30 columns</p>\n",
       "</div>"
      ],
      "text/plain": [
       "                             win     kills    deaths   assists  \\\n",
       "win                     1.000000  0.262337 -0.365656  0.305833   \n",
       "kills                   0.262337  1.000000  0.171691  0.084407   \n",
       "deaths                 -0.365656  0.171691  1.000000  0.156695   \n",
       "assists                 0.305833  0.084407  0.156695  1.000000   \n",
       "largestkillingspree     0.316502  0.806148 -0.133511  0.024763   \n",
       "largestmultikill        0.210101  0.703828  0.124119  0.050567   \n",
       "longesttimespentliving  0.114497  0.137055 -0.221939  0.213380   \n",
       "doublekills             0.204081  0.720063  0.065552  0.009992   \n",
       "triplekills             0.127686  0.416447  0.016405 -0.009209   \n",
       "quadrakills             0.062081  0.203719  0.001487 -0.008608   \n",
       "pentakills              0.030706  0.099763 -0.003751 -0.003910   \n",
       "totdmgdealt             0.132532  0.610604  0.255345  0.081615   \n",
       "magicdmgdealt           0.040741  0.243935  0.137341  0.148025   \n",
       "physicaldmgdealt        0.098151  0.463880  0.177482 -0.045307   \n",
       "truedmgdealt            0.041786  0.033586 -0.011322  0.088428   \n",
       "largestcrit             0.082603  0.316027  0.102608 -0.038490   \n",
       "totdmgtochamp           0.143570  0.768368  0.363282  0.265386   \n",
       "magicdmgtochamp         0.059749  0.288513  0.185264  0.270347   \n",
       "physdmgtochamp          0.100220  0.559084  0.217822  0.035744   \n",
       "truedmgtochamp          0.059295  0.356921  0.174296  0.110971   \n",
       "totheal                 0.113540  0.173288  0.111339  0.355378   \n",
       "totunitshealed          0.044049 -0.169901 -0.004902  0.367860   \n",
       "dmgtoturrets            0.385483  0.388956 -0.068392  0.056894   \n",
       "totdmgtaken            -0.074434  0.392549  0.581940  0.343705   \n",
       "magicdmgtaken          -0.091173  0.326306  0.535828  0.336371   \n",
       "physdmgtaken           -0.046872  0.346894  0.484942  0.270750   \n",
       "truedmgtaken           -0.039278  0.225831  0.302221  0.193364   \n",
       "wardsplaced             0.030433 -0.035084  0.172751  0.512302   \n",
       "wardskilled             0.036427 -0.025995  0.066750  0.343283   \n",
       "firstblood              0.064175  0.198372  0.002883 -0.029702   \n",
       "\n",
       "                        largestkillingspree  largestmultikill  \\\n",
       "win                                0.316502          0.210101   \n",
       "kills                              0.806148          0.703828   \n",
       "deaths                            -0.133511          0.124119   \n",
       "assists                            0.024763          0.050567   \n",
       "largestkillingspree                1.000000          0.627999   \n",
       "largestmultikill                   0.627999          1.000000   \n",
       "longesttimespentliving             0.240254          0.138380   \n",
       "doublekills                        0.611156          0.762963   \n",
       "triplekills                        0.366198          0.612354   \n",
       "quadrakills                        0.181852          0.367186   \n",
       "pentakills                         0.090848          0.193651   \n",
       "totdmgdealt                        0.470836          0.465606   \n",
       "magicdmgdealt                      0.184578          0.143240   \n",
       "physicaldmgdealt                   0.358818          0.383146   \n",
       "truedmgdealt                       0.030060          0.026821   \n",
       "largestcrit                        0.247007          0.281028   \n",
       "totdmgtochamp                      0.549073          0.537301   \n",
       "magicdmgtochamp                    0.197850          0.158079   \n",
       "physdmgtochamp                     0.409062          0.430772   \n",
       "truedmgtochamp                     0.244290          0.255343   \n",
       "totheal                            0.117962          0.109470   \n",
       "totunitshealed                    -0.157788         -0.109097   \n",
       "dmgtoturrets                       0.371584          0.318525   \n",
       "totdmgtaken                        0.184669          0.268430   \n",
       "magicdmgtaken                      0.132382          0.213663   \n",
       "physdmgtaken                       0.176682          0.244781   \n",
       "truedmgtaken                       0.109635          0.146630   \n",
       "wardsplaced                       -0.076637         -0.034874   \n",
       "wardskilled                       -0.043029         -0.019475   \n",
       "firstblood                         0.154956          0.119841   \n",
       "\n",
       "                        longesttimespentliving  doublekills  triplekills  \\\n",
       "win                                   0.114497     0.204081     0.127686   \n",
       "kills                                 0.137055     0.720063     0.416447   \n",
       "deaths                               -0.221939     0.065552     0.016405   \n",
       "assists                               0.213380     0.009992    -0.009209   \n",
       "largestkillingspree                   0.240254     0.611156     0.366198   \n",
       "largestmultikill                      0.138380     0.762963     0.612354   \n",
       "longesttimespentliving                1.000000     0.076882     0.039239   \n",
       "doublekills                           0.076882     1.000000     0.497732   \n",
       "triplekills                           0.039239     0.497732     1.000000   \n",
       "quadrakills                           0.016650     0.224135     0.427355   \n",
       "pentakills                            0.009352     0.105793     0.192231   \n",
       "totdmgdealt                           0.230730     0.404285     0.220969   \n",
       "magicdmgdealt                         0.132894     0.093470     0.026395   \n",
       "physicaldmgdealt                      0.131334     0.356080     0.211123   \n",
       "truedmgdealt                          0.061350     0.017490     0.011775   \n",
       "largestcrit                           0.063038     0.280355     0.174542   \n",
       "totdmgtochamp                         0.189312     0.520458     0.290825   \n",
       "magicdmgtochamp                       0.121261     0.122486     0.042025   \n",
       "physdmgtochamp                        0.091747     0.444404     0.270093   \n",
       "truedmgtochamp                        0.082745     0.256235     0.160773   \n",
       "totheal                               0.191023     0.086119     0.042889   \n",
       "totunitshealed                        0.093827    -0.079782    -0.028413   \n",
       "dmgtoturrets                          0.119823     0.305171     0.188164   \n",
       "totdmgtaken                           0.162588     0.193588     0.089947   \n",
       "magicdmgtaken                         0.144485     0.160945     0.072939   \n",
       "physdmgtaken                          0.138335     0.170560     0.079403   \n",
       "truedmgtaken                          0.088238     0.114395     0.059691   \n",
       "wardsplaced                           0.214055    -0.061255    -0.035451   \n",
       "wardskilled                           0.164634    -0.029996    -0.012398   \n",
       "firstblood                            0.003635     0.103435     0.053507   \n",
       "\n",
       "                        quadrakills  ...   totheal  totunitshealed  \\\n",
       "win                        0.062081  ...  0.113540        0.044049   \n",
       "kills                      0.203719  ...  0.173288       -0.169901   \n",
       "deaths                     0.001487  ...  0.111339       -0.004902   \n",
       "assists                   -0.008608  ...  0.355378        0.367860   \n",
       "largestkillingspree        0.181852  ...  0.117962       -0.157788   \n",
       "largestmultikill           0.367186  ...  0.109470       -0.109097   \n",
       "longesttimespentliving     0.016650  ...  0.191023        0.093827   \n",
       "doublekills                0.224135  ...  0.086119       -0.079782   \n",
       "triplekills                0.427355  ...  0.042889       -0.028413   \n",
       "quadrakills                1.000000  ...  0.018875       -0.008009   \n",
       "pentakills                 0.426513  ...  0.007594       -0.001152   \n",
       "totdmgdealt                0.101673  ...  0.289312       -0.186066   \n",
       "magicdmgdealt              0.003771  ...  0.153028       -0.189863   \n",
       "physicaldmgdealt           0.101993  ...  0.153808       -0.099469   \n",
       "truedmgdealt               0.008499  ...  0.140528        0.110475   \n",
       "largestcrit                0.089874  ...  0.033451        0.028372   \n",
       "totdmgtochamp              0.138533  ...  0.210649       -0.115324   \n",
       "magicdmgtochamp            0.010217  ...  0.119229       -0.108042   \n",
       "physdmgtochamp             0.135950  ...  0.097246       -0.032362   \n",
       "truedmgtochamp             0.087851  ...  0.210368        0.000278   \n",
       "totheal                    0.018875  ...  1.000000        0.191003   \n",
       "totunitshealed            -0.008009  ...  0.191003        1.000000   \n",
       "dmgtoturrets               0.095294  ...  0.037684       -0.035830   \n",
       "totdmgtaken                0.036405  ...  0.591647       -0.036626   \n",
       "magicdmgtaken              0.027332  ...  0.420167        0.014583   \n",
       "physdmgtaken               0.033002  ...  0.570191       -0.061117   \n",
       "truedmgtaken               0.027776  ...  0.342115       -0.028374   \n",
       "wardsplaced               -0.015755  ...  0.253318        0.338090   \n",
       "wardskilled               -0.007188  ...  0.212286        0.261115   \n",
       "firstblood                 0.018706  ...  0.022401       -0.050891   \n",
       "\n",
       "                        dmgtoturrets  totdmgtaken  magicdmgtaken  \\\n",
       "win                         0.385483    -0.074434      -0.091173   \n",
       "kills                       0.388956     0.392549       0.326306   \n",
       "deaths                     -0.068392     0.581940       0.535828   \n",
       "assists                     0.056894     0.343705       0.336371   \n",
       "largestkillingspree         0.371584     0.184669       0.132382   \n",
       "largestmultikill            0.318525     0.268430       0.213663   \n",
       "longesttimespentliving      0.119823     0.162588       0.144485   \n",
       "doublekills                 0.305171     0.193588       0.160945   \n",
       "triplekills                 0.188164     0.089947       0.072939   \n",
       "quadrakills                 0.095294     0.036405       0.027332   \n",
       "pentakills                  0.053878     0.012927       0.011559   \n",
       "totdmgdealt                 0.395461     0.563064       0.456815   \n",
       "magicdmgdealt               0.058399     0.214978       0.276185   \n",
       "physicaldmgdealt            0.370958     0.417409       0.272227   \n",
       "truedmgdealt                0.018267     0.085024       0.054874   \n",
       "largestcrit                 0.304643     0.093487       0.087460   \n",
       "totdmgtochamp               0.368167     0.539885       0.509756   \n",
       "magicdmgtochamp             0.042213     0.191267       0.288363   \n",
       "physdmgtochamp              0.363706     0.390611       0.274821   \n",
       "truedmgtochamp              0.133736     0.329120       0.270525   \n",
       "totheal                     0.037684     0.591647       0.420167   \n",
       "totunitshealed             -0.035830    -0.036626       0.014583   \n",
       "dmgtoturrets                1.000000     0.084858       0.067415   \n",
       "totdmgtaken                 0.084858     1.000000       0.790281   \n",
       "magicdmgtaken               0.067415     0.790281       1.000000   \n",
       "physdmgtaken                0.074362     0.914116       0.487864   \n",
       "truedmgtaken                0.065348     0.555868       0.346751   \n",
       "wardsplaced                -0.054143     0.277066       0.288343   \n",
       "wardskilled                -0.028465     0.175701       0.187241   \n",
       "firstblood                  0.078840     0.054482       0.026272   \n",
       "\n",
       "                        physdmgtaken  truedmgtaken  wardsplaced  wardskilled  \\\n",
       "win                        -0.046872     -0.039278     0.030433     0.036427   \n",
       "kills                       0.346894      0.225831    -0.035084    -0.025995   \n",
       "deaths                      0.484942      0.302221     0.172751     0.066750   \n",
       "assists                     0.270750      0.193364     0.512302     0.343283   \n",
       "largestkillingspree         0.176682      0.109635    -0.076637    -0.043029   \n",
       "largestmultikill            0.244781      0.146630    -0.034874    -0.019475   \n",
       "longesttimespentliving      0.138335      0.088238     0.214055     0.164634   \n",
       "doublekills                 0.170560      0.114395    -0.061255    -0.029996   \n",
       "triplekills                 0.079403      0.059691    -0.035451    -0.012398   \n",
       "quadrakills                 0.033002      0.027776    -0.015755    -0.007188   \n",
       "pentakills                  0.010877      0.007474    -0.007802    -0.001758   \n",
       "totdmgdealt                 0.508372      0.303590    -0.025779     0.012108   \n",
       "magicdmgdealt               0.125589      0.120975     0.083232     0.015956   \n",
       "physicaldmgdealt            0.420981      0.225374    -0.094084    -0.011293   \n",
       "truedmgdealt                0.088111      0.033823     0.027671     0.040474   \n",
       "largestcrit                 0.080762      0.025470    -0.127986    -0.030940   \n",
       "totdmgtochamp               0.434717      0.321758     0.094337     0.070396   \n",
       "magicdmgtochamp             0.082773      0.111350     0.179858     0.080745   \n",
       "physdmgtochamp              0.375971      0.239247    -0.070610    -0.006872   \n",
       "truedmgtochamp              0.295720      0.171946     0.070511     0.077438   \n",
       "totheal                     0.570191      0.342115     0.253318     0.212286   \n",
       "totunitshealed             -0.061117     -0.028374     0.338090     0.261115   \n",
       "dmgtoturrets                0.074362      0.065348    -0.054143    -0.028465   \n",
       "totdmgtaken                 0.914116      0.555868     0.277066     0.175701   \n",
       "magicdmgtaken               0.487864      0.346751     0.288343     0.187241   \n",
       "physdmgtaken                1.000000      0.456651     0.209141     0.130067   \n",
       "truedmgtaken                0.456651      1.000000     0.141694     0.087655   \n",
       "wardsplaced                 0.209141      0.141694     1.000000     0.509371   \n",
       "wardskilled                 0.130067      0.087655     0.509371     1.000000   \n",
       "firstblood                  0.059935      0.036580    -0.025348    -0.016072   \n",
       "\n",
       "                        firstblood  \n",
       "win                       0.064175  \n",
       "kills                     0.198372  \n",
       "deaths                    0.002883  \n",
       "assists                  -0.029702  \n",
       "largestkillingspree       0.154956  \n",
       "largestmultikill          0.119841  \n",
       "longesttimespentliving    0.003635  \n",
       "doublekills               0.103435  \n",
       "triplekills               0.053507  \n",
       "quadrakills               0.018706  \n",
       "pentakills                0.008812  \n",
       "totdmgdealt               0.089699  \n",
       "magicdmgdealt             0.007429  \n",
       "physicaldmgdealt          0.089053  \n",
       "truedmgdealt              0.001467  \n",
       "largestcrit               0.049769  \n",
       "totdmgtochamp             0.106820  \n",
       "magicdmgtochamp           0.011310  \n",
       "physdmgtochamp            0.104565  \n",
       "truedmgtochamp            0.049892  \n",
       "totheal                   0.022401  \n",
       "totunitshealed           -0.050891  \n",
       "dmgtoturrets              0.078840  \n",
       "totdmgtaken               0.054482  \n",
       "magicdmgtaken             0.026272  \n",
       "physdmgtaken              0.059935  \n",
       "truedmgtaken              0.036580  \n",
       "wardsplaced              -0.025348  \n",
       "wardskilled              -0.016072  \n",
       "firstblood                1.000000  \n",
       "\n",
       "[30 rows x 30 columns]"
      ]
     },
     "execution_count": null,
     "metadata": {},
     "output_type": "execute_result"
    }
   ],
   "source": [
    "train_df.corr()"
   ]
  },
  {
   "cell_type": "code",
   "execution_count": null,
   "metadata": {
    "collapsed": false
   },
   "outputs": [
    {
     "name": "stderr",
     "output_type": "stream",
     "text": [
      "/opt/conda/envs/python35-paddle120-env/lib/python3.7/site-packages/matplotlib/cbook/__init__.py:2349: DeprecationWarning: Using or importing the ABCs from 'collections' instead of from 'collections.abc' is deprecated, and in 3.8 it will stop working\n",
      "  if isinstance(obj, collections.Iterator):\n",
      "/opt/conda/envs/python35-paddle120-env/lib/python3.7/site-packages/matplotlib/cbook/__init__.py:2366: DeprecationWarning: Using or importing the ABCs from 'collections' instead of from 'collections.abc' is deprecated, and in 3.8 it will stop working\n",
      "  return list(data) if isinstance(data, collections.MappingView) else data\n"
     ]
    },
    {
     "data": {
      "text/plain": [
       "<matplotlib.axes._subplots.AxesSubplot at 0x7fbfc19ab190>"
      ]
     },
     "execution_count": null,
     "metadata": {},
     "output_type": "execute_result"
    },
    {
     "data": {
      "image/png": "[encoded data removed]",
      "text/plain": [
       "<Figure size 432x288 with 1 Axes>"
      ]
     },
     "metadata": {},
     "output_type": "display_data"
    }
   ],
   "source": [
    "train_df['win'].value_counts().plot(kind='bar')"
   ]
  },
  {
   "cell_type": "code",
   "execution_count": null,
   "metadata": {
    "collapsed": false
   },
   "outputs": [
    {
     "data": {
      "text/plain": [
       "<matplotlib.axes._subplots.AxesSubplot at 0x7fbfc191d310>"
      ]
     },
     "execution_count": null,
     "metadata": {},
     "output_type": "execute_result"
    },
    {
     "data": {
      "image/png": "[encoded data removed]",
      "text/plain": [
       "<Figure size 432x288 with 1 Axes>"
      ]
     },
     "metadata": {},
     "output_type": "display_data"
    }
   ],
   "source": [
    "sns.distplot(train_df['kills'])"
   ]
  },
  {
   "cell_type": "code",
   "execution_count": null,
   "metadata": {
    "collapsed": false
   },
   "outputs": [
    {
     "data": {
      "text/plain": [
       "<matplotlib.axes._subplots.AxesSubplot at 0x7f5bc9874d10>"
      ]
     },
     "execution_count": null,
     "metadata": {},
     "output_type": "execute_result"
    },
    {
     "data": {
      "image/png": "[encoded data removed]",
      "text/plain": [
       "<Figure size 432x288 with 1 Axes>"
      ]
     },
     "metadata": {},
     "output_type": "display_data"
    }
   ],
   "source": [
    "sns.distplot(train_df['deaths'])"
   ]
  },
  {
   "cell_type": "code",
   "execution_count": null,
   "metadata": {
    "collapsed": false
   },
   "outputs": [
    {
     "data": {
      "text/plain": [
       "<matplotlib.axes._subplots.AxesSubplot at 0x7f87fc0b5a90>"
      ]
     },
     "execution_count": null,
     "metadata": {},
     "output_type": "execute_result"
    },
    {
     "data": {
      "image/png": "[encoded data removed]",
      "text/plain": [
       "<Figure size 432x288 with 1 Axes>"
      ]
     },
     "metadata": {},
     "output_type": "display_data"
    }
   ],
   "source": [
    "sns.boxplot(y='kills', x='win', data=train_df)"
   ]
  },
  {
   "cell_type": "code",
   "execution_count": null,
   "metadata": {
    "collapsed": false
   },
   "outputs": [
    {
     "data": {
      "text/plain": [
       "Text(0,0.5,'deaths')"
      ]
     },
     "execution_count": null,
     "metadata": {},
     "output_type": "execute_result"
    },
    {
     "data": {
      "image/png": "[encoded data removed]",
      "text/plain": [
       "<Figure size 432x288 with 1 Axes>"
      ]
     },
     "metadata": {},
     "output_type": "display_data"
    }
   ],
   "source": [
    "plt.scatter(train_df['kills'], train_df['deaths'])\n",
    "plt.xlabel('kills')\n",
    "plt.ylabel('deaths')"
   ]
  },
  {
   "cell_type": "markdown",
   "metadata": {
    "collapsed": false
   },
   "source": [
    "## 搭建模型"
   ]
  },
  {
   "cell_type": "code",
   "execution_count": 7,
   "metadata": {
    "collapsed": false
   },
   "outputs": [],
   "source": [
    "for col in train_df.columns[1:]:#归一化\n",
    "    train_df[col] /= train_df[col].max()\n",
    "    test_df[col] /= test_df[col].max()"
   ]
  },
  {
   "cell_type": "code",
   "execution_count": 8,
   "metadata": {
    "collapsed": false
   },
   "outputs": [],
   "source": [
    "class Classifier(paddle.nn.Layer):\n",
    "    # self代表类的实例自身\n",
    "    def __init__(self):\n",
    "        # 初始化父类中的一些参数\n",
    "        super(Classifier, self).__init__()\n",
    "        \n",
    "        self.fc1 = paddle.nn.Linear(in_features=16, out_features=128)\n",
    "        self.fc2 = paddle.nn.Linear(in_features=128, out_features=64)\n",
    "        self.fc3 = paddle.nn.Linear(in_features=64, out_features=32)\n",
    "        self.fc4 = paddle.nn.Linear(in_features=32, out_features=1)\n",
    "        self.relu = paddle.nn.ReLU()\n",
    " \n",
    "    # 网络的前向计算\n",
    "    def forward(self, inputs):\n",
    "        x = self.relu(self.fc1(inputs))\n",
    "        x = self.relu(self.fc2(x))\n",
    "        x = self.relu(self.fc3(x))\n",
    "        x = self.fc4(x)\n",
    "        x = self.relu(x)\n",
    "\n",
    "        return x"
   ]
  },
  {
   "cell_type": "code",
   "execution_count": 9,
   "metadata": {
    "collapsed": false
   },
   "outputs": [
    {
     "name": "stderr",
     "output_type": "stream",
     "text": [
      "W0704 21:23:23.352166 38800 device_context.cc:447] Please NOTE: device: 0, GPU Compute Capability: 7.0, Driver API Version: 11.2, Runtime API Version: 10.1\n",
      "W0704 21:23:23.356123 38800 device_context.cc:465] device: 0, cuDNN Version: 7.6.\n"
     ]
    }
   ],
   "source": [
    "model = Classifier()\r\n",
    "model.train()\r\n",
    "opt = paddle.optimizer.SGD(learning_rate=0.02, parameters=model.parameters())\r\n",
    "loss_fn = paddle.nn.BCEWithLogitsLoss()"
   ]
  },
  {
   "cell_type": "code",
   "execution_count": 19,
   "metadata": {
    "collapsed": false
   },
   "outputs": [
    {
     "name": "stderr",
     "output_type": "stream",
     "text": [
      "/opt/conda/envs/python35-paddle120-env/lib/python3.7/site-packages/paddle/framework/io.py:729: UserWarning: The input state dict is empty, no need to save.\n",
      "  warnings.warn(\"The input state dict is empty, no need to save.\")\n"
     ]
    }
   ],
   "source": [
    "# paddle.save(model.state_dict(), \"model.pdparams\")\r\n",
    "# paddle.save(opt.state_dict(), \"opt.pdopt\")"
   ]
  },
  {
   "cell_type": "code",
   "execution_count": 27,
   "metadata": {
    "collapsed": false
   },
   "outputs": [
    {
     "name": "stdout",
     "output_type": "stream",
     "text": [
      "Looking in indexes: https://mirror.baidu.com/pypi/simple\n",
      "Requirement already satisfied: paddle2onnx in /opt/conda/envs/python35-paddle120-env/lib/python3.7/site-packages (0.9.8)\n",
      "Requirement already satisfied: onnx in /opt/conda/envs/python35-paddle120-env/lib/python3.7/site-packages (1.12.0)\n",
      "Requirement already satisfied: onnxruntime in /opt/conda/envs/python35-paddle120-env/lib/python3.7/site-packages (1.11.1)\n",
      "Requirement already satisfied: protobuf<=3.20.1,>=3.12.2 in /opt/conda/envs/python35-paddle120-env/lib/python3.7/site-packages (from onnx) (3.14.0)\n",
      "Requirement already satisfied: typing-extensions>=3.6.2.1 in /opt/conda/envs/python35-paddle120-env/lib/python3.7/site-packages (from onnx) (4.2.0)\n",
      "Requirement already satisfied: numpy>=1.16.6 in /opt/conda/envs/python35-paddle120-env/lib/python3.7/site-packages (from onnx) (1.21.6)\n",
      "Requirement already satisfied: flatbuffers in /opt/conda/envs/python35-paddle120-env/lib/python3.7/site-packages (from onnxruntime) (2.0)\n",
      "Requirement already satisfied: six>=1.9 in /opt/conda/envs/python35-paddle120-env/lib/python3.7/site-packages (from protobuf<=3.20.1,>=3.12.2->onnx) (1.16.0)\n"
     ]
    }
   ],
   "source": [
    "!pip install paddle2onnx onnx onnxruntime -i https://mirror.baidu.com/pypi/simple"
   ]
  },
  {
   "cell_type": "code",
   "execution_count": 29,
   "metadata": {
    "collapsed": false
   },
   "outputs": [
    {
     "ename": "ValueError",
     "evalue": "No valid transformed program for function: forward(inputs), input_spec: None.\n\t    Please specific `input_spec` in `@paddle.jit.to_static` or feed input tensor to call the decorated function at once.\n",
     "output_type": "error",
     "traceback": [
      "\u001b[0;31m---------------------------------------------------------------------------\u001b[0m",
      "\u001b[0;31mValueError\u001b[0m                                Traceback (most recent call last)",
      "\u001b[0;32m/tmp/ipykernel_38800/1626090225.py\u001b[0m in \u001b[0;36m<module>\u001b[0;34m\u001b[0m\n\u001b[1;32m      1\u001b[0m \u001b[0;32mfrom\u001b[0m \u001b[0mpaddle\u001b[0m\u001b[0;34m.\u001b[0m\u001b[0mstatic\u001b[0m \u001b[0;32mimport\u001b[0m \u001b[0mInputSpec\u001b[0m\u001b[0;34m\u001b[0m\u001b[0;34m\u001b[0m\u001b[0m\n\u001b[1;32m      2\u001b[0m \u001b[0mpath\u001b[0m \u001b[0;34m=\u001b[0m \u001b[0;34m\"example.model/linear\"\u001b[0m\u001b[0;34m\u001b[0m\u001b[0;34m\u001b[0m\u001b[0m\n\u001b[0;32m----> 3\u001b[0;31m \u001b[0mpaddle\u001b[0m\u001b[0;34m.\u001b[0m\u001b[0mjit\u001b[0m\u001b[0;34m.\u001b[0m\u001b[0msave\u001b[0m\u001b[0;34m(\u001b[0m\u001b[0mmodel\u001b[0m\u001b[0;34m,\u001b[0m \u001b[0mpath\u001b[0m\u001b[0;34m)\u001b[0m\u001b[0;34m\u001b[0m\u001b[0;34m\u001b[0m\u001b[0m\n\u001b[0m",
      "\u001b[0;32m<decorator-gen-217>\u001b[0m in \u001b[0;36msave\u001b[0;34m(layer, path, input_spec, **configs)\u001b[0m\n",
      "\u001b[0;32m/opt/conda/envs/python35-paddle120-env/lib/python3.7/site-packages/paddle/fluid/wrapped_decorator.py\u001b[0m in \u001b[0;36m__impl__\u001b[0;34m(func, *args, **kwargs)\u001b[0m\n\u001b[1;32m     23\u001b[0m     \u001b[0;32mdef\u001b[0m \u001b[0m__impl__\u001b[0m\u001b[0;34m(\u001b[0m\u001b[0mfunc\u001b[0m\u001b[0;34m,\u001b[0m \u001b[0;34m*\u001b[0m\u001b[0margs\u001b[0m\u001b[0;34m,\u001b[0m \u001b[0;34m**\u001b[0m\u001b[0mkwargs\u001b[0m\u001b[0;34m)\u001b[0m\u001b[0;34m:\u001b[0m\u001b[0;34m\u001b[0m\u001b[0;34m\u001b[0m\u001b[0m\n\u001b[1;32m     24\u001b[0m         \u001b[0mwrapped_func\u001b[0m \u001b[0;34m=\u001b[0m \u001b[0mdecorator_func\u001b[0m\u001b[0;34m(\u001b[0m\u001b[0mfunc\u001b[0m\u001b[0;34m)\u001b[0m\u001b[0;34m\u001b[0m\u001b[0;34m\u001b[0m\u001b[0m\n\u001b[0;32m---> 25\u001b[0;31m         \u001b[0;32mreturn\u001b[0m \u001b[0mwrapped_func\u001b[0m\u001b[0;34m(\u001b[0m\u001b[0;34m*\u001b[0m\u001b[0margs\u001b[0m\u001b[0;34m,\u001b[0m \u001b[0;34m**\u001b[0m\u001b[0mkwargs\u001b[0m\u001b[0;34m)\u001b[0m\u001b[0;34m\u001b[0m\u001b[0;34m\u001b[0m\u001b[0m\n\u001b[0m\u001b[1;32m     26\u001b[0m \u001b[0;34m\u001b[0m\u001b[0m\n\u001b[1;32m     27\u001b[0m     \u001b[0;32mreturn\u001b[0m \u001b[0m__impl__\u001b[0m\u001b[0;34m\u001b[0m\u001b[0;34m\u001b[0m\u001b[0m\n",
      "\u001b[0;32m/opt/conda/envs/python35-paddle120-env/lib/python3.7/site-packages/paddle/fluid/dygraph/base.py\u001b[0m in \u001b[0;36m__impl__\u001b[0;34m(*args, **kwargs)\u001b[0m\n\u001b[1;32m     49\u001b[0m     \u001b[0;32mdef\u001b[0m \u001b[0m__impl__\u001b[0m\u001b[0;34m(\u001b[0m\u001b[0;34m*\u001b[0m\u001b[0margs\u001b[0m\u001b[0;34m,\u001b[0m \u001b[0;34m**\u001b[0m\u001b[0mkwargs\u001b[0m\u001b[0;34m)\u001b[0m\u001b[0;34m:\u001b[0m\u001b[0;34m\u001b[0m\u001b[0;34m\u001b[0m\u001b[0m\n\u001b[1;32m     50\u001b[0m         \u001b[0;32mwith\u001b[0m \u001b[0mframework\u001b[0m\u001b[0;34m.\u001b[0m\u001b[0m_dygraph_guard\u001b[0m\u001b[0;34m(\u001b[0m\u001b[0;32mNone\u001b[0m\u001b[0;34m)\u001b[0m\u001b[0;34m:\u001b[0m\u001b[0;34m\u001b[0m\u001b[0;34m\u001b[0m\u001b[0m\n\u001b[0;32m---> 51\u001b[0;31m             \u001b[0;32mreturn\u001b[0m \u001b[0mfunc\u001b[0m\u001b[0;34m(\u001b[0m\u001b[0;34m*\u001b[0m\u001b[0margs\u001b[0m\u001b[0;34m,\u001b[0m \u001b[0;34m**\u001b[0m\u001b[0mkwargs\u001b[0m\u001b[0;34m)\u001b[0m\u001b[0;34m\u001b[0m\u001b[0;34m\u001b[0m\u001b[0m\n\u001b[0m\u001b[1;32m     52\u001b[0m \u001b[0;34m\u001b[0m\u001b[0m\n\u001b[1;32m     53\u001b[0m     \u001b[0;32mreturn\u001b[0m \u001b[0m__impl__\u001b[0m\u001b[0;34m\u001b[0m\u001b[0;34m\u001b[0m\u001b[0m\n",
      "\u001b[0;32m/opt/conda/envs/python35-paddle120-env/lib/python3.7/site-packages/paddle/fluid/dygraph/jit.py\u001b[0m in \u001b[0;36msave\u001b[0;34m(layer, path, input_spec, **configs)\u001b[0m\n\u001b[1;32m    752\u001b[0m                 static_forward = declarative(\n\u001b[1;32m    753\u001b[0m                     inner_layer.forward, input_spec=inner_input_spec)\n\u001b[0;32m--> 754\u001b[0;31m                 \u001b[0mconcrete_program\u001b[0m \u001b[0;34m=\u001b[0m \u001b[0mstatic_forward\u001b[0m\u001b[0;34m.\u001b[0m\u001b[0mconcrete_program\u001b[0m\u001b[0;34m\u001b[0m\u001b[0;34m\u001b[0m\u001b[0m\n\u001b[0m\u001b[1;32m    755\u001b[0m                 \u001b[0;31m# the input_spec has been used in declarative, which is equal to\u001b[0m\u001b[0;34m\u001b[0m\u001b[0;34m\u001b[0m\u001b[0;34m\u001b[0m\u001b[0m\n\u001b[1;32m    756\u001b[0m                 \u001b[0;31m# @declarative with input_spec and jit.save without input_spec,\u001b[0m\u001b[0;34m\u001b[0m\u001b[0;34m\u001b[0m\u001b[0;34m\u001b[0m\u001b[0m\n",
      "\u001b[0;32m/opt/conda/envs/python35-paddle120-env/lib/python3.7/site-packages/paddle/fluid/dygraph/dygraph_to_static/program_translator.py\u001b[0m in \u001b[0;36mconcrete_program\u001b[0;34m(self)\u001b[0m\n\u001b[1;32m    477\u001b[0m                 \u001b[0mprint\u001b[0m\u001b[0;34m(\u001b[0m\u001b[0mdecorated_foo\u001b[0m\u001b[0;34m.\u001b[0m\u001b[0mconcrete_program\u001b[0m\u001b[0;34m)\u001b[0m\u001b[0;34m\u001b[0m\u001b[0;34m\u001b[0m\u001b[0m\n\u001b[1;32m    478\u001b[0m         \"\"\"\n\u001b[0;32m--> 479\u001b[0;31m         \u001b[0;32mreturn\u001b[0m \u001b[0mself\u001b[0m\u001b[0;34m.\u001b[0m\u001b[0mconcrete_program_specify_input_spec\u001b[0m\u001b[0;34m(\u001b[0m\u001b[0minput_spec\u001b[0m\u001b[0;34m=\u001b[0m\u001b[0;32mNone\u001b[0m\u001b[0;34m)\u001b[0m\u001b[0;34m\u001b[0m\u001b[0;34m\u001b[0m\u001b[0m\n\u001b[0m\u001b[1;32m    480\u001b[0m \u001b[0;34m\u001b[0m\u001b[0m\n\u001b[1;32m    481\u001b[0m     \u001b[0;32mdef\u001b[0m \u001b[0mconcrete_program_specify_input_spec\u001b[0m\u001b[0;34m(\u001b[0m\u001b[0mself\u001b[0m\u001b[0;34m,\u001b[0m \u001b[0minput_spec\u001b[0m\u001b[0;34m=\u001b[0m\u001b[0;32mNone\u001b[0m\u001b[0;34m)\u001b[0m\u001b[0;34m:\u001b[0m\u001b[0;34m\u001b[0m\u001b[0;34m\u001b[0m\u001b[0m\n",
      "\u001b[0;32m/opt/conda/envs/python35-paddle120-env/lib/python3.7/site-packages/paddle/fluid/dygraph/dygraph_to_static/program_translator.py\u001b[0m in \u001b[0;36mconcrete_program_specify_input_spec\u001b[0;34m(self, input_spec)\u001b[0m\n\u001b[1;32m    520\u001b[0m                 raise ValueError(\n\u001b[1;32m    521\u001b[0m                     \u001b[0;34m\"No valid transformed program for {}.\\n\\t    Please specific `input_spec` in `@paddle.jit.to_static` or feed input tensor to call the decorated function at once.\\n\"\u001b[0m\u001b[0;34m.\u001b[0m\u001b[0;34m\u001b[0m\u001b[0;34m\u001b[0m\u001b[0m\n\u001b[0;32m--> 522\u001b[0;31m                     format(self._function_spec))\n\u001b[0m\u001b[1;32m    523\u001b[0m         \u001b[0;31m# If more than one programs have been cached, return the recent converted program by default.\u001b[0m\u001b[0;34m\u001b[0m\u001b[0;34m\u001b[0m\u001b[0;34m\u001b[0m\u001b[0m\n\u001b[1;32m    524\u001b[0m         \u001b[0;32melif\u001b[0m \u001b[0mcached_program_len\u001b[0m \u001b[0;34m>\u001b[0m \u001b[0;36m1\u001b[0m\u001b[0;34m:\u001b[0m\u001b[0;34m\u001b[0m\u001b[0;34m\u001b[0m\u001b[0m\n",
      "\u001b[0;31mValueError\u001b[0m: No valid transformed program for function: forward(inputs), input_spec: None.\n\t    Please specific `input_spec` in `@paddle.jit.to_static` or feed input tensor to call the decorated function at once.\n"
     ]
    }
   ],
   "source": [
    "# from paddle.static import InputSpec\r\n",
    "# path = \"example.model/linear\"\r\n",
    "# paddle.jit.save(model, path)"
   ]
  },
  {
   "cell_type": "code",
   "execution_count": 15,
   "metadata": {
    "collapsed": false
   },
   "outputs": [
    {
     "name": "stdout",
     "output_type": "stream",
     "text": [
      "0.8454444444444444\r"
     ]
    }
   ],
   "source": [
    "\r\n",
    "EPOCH_NUM = 700   # 设置外层循环次数 尽量大\r\n",
    "BATCH_SIZE = 256  # 设置batch大小  根据硬件调整\r\n",
    "# 优化算法\r\n",
    "training_data = train_df.iloc[:-1000].values.astype(np.float32)\r\n",
    "val_data = train_df.iloc[-1000:].values.astype(np.float32)\r\n",
    "\r\n",
    "# 定义外层循环\r\n",
    "for epoch_id in range(EPOCH_NUM):\r\n",
    "    # 在每轮迭代开始之前，将训练数据的顺序随机的打乱\r\n",
    "    np.random.shuffle(training_data)\r\n",
    "    \r\n",
    "    # 将训练数据进行拆分，每个batch包含10条数据\r\n",
    "    mini_batches = [training_data[k:k+BATCH_SIZE] for k in range(0, len(training_data), BATCH_SIZE)]\r\n",
    "    \r\n",
    "    train_loss = []\r\n",
    "    train_acc = []\r\n",
    "    for iter_id, mini_batch in enumerate(mini_batches):\r\n",
    "        # 清空梯度变量，以备下一轮计算\r\n",
    "        opt.clear_grad()\r\n",
    "\r\n",
    "        x = np.array(mini_batch[:, 1:])\r\n",
    "        y = np.array(mini_batch[:, :1])\r\n",
    "        \r\n",
    "        # 将numpy数据转为飞桨动态图tensor的格式\r\n",
    "        features = paddle.to_tensor(x)\r\n",
    "        y = paddle.to_tensor(y)\r\n",
    "        \r\n",
    "        # 前向计算\r\n",
    "        predicts = model(features)\r\n",
    "        \r\n",
    "        # 计算损失\r\n",
    "        loss = loss_fn(predicts, label=y)\r\n",
    "        avg_loss = paddle.mean(loss)\r\n",
    "        acc = accuracy_score((predicts > 0).astype(int).flatten(),y.flatten().astype(int))\r\n",
    "        train_acc.append(acc)\r\n",
    "        train_loss.append(avg_loss.numpy())\r\n",
    "        \r\n",
    "        # 反向传播，计算每层参数的梯度值\r\n",
    "        avg_loss.backward()\r\n",
    "\r\n",
    "        # 更新参数，根据设置好的学习率迭代一步\r\n",
    "        opt.step()\r\n",
    "    \r\n",
    "    mini_batches = [val_data[k:k+BATCH_SIZE] for k in range(0, len(val_data), BATCH_SIZE)]\r\n",
    "    val_loss = []\r\n",
    "    val_acc = []\r\n",
    "    for iter_id, mini_batch in enumerate(mini_batches):\r\n",
    "        x = np.array(mini_batch[:, 1:])\r\n",
    "        y = np.array(mini_batch[:, :1])\r\n",
    "        \r\n",
    "        features = paddle.to_tensor(x)\r\n",
    "        y = paddle.to_tensor(y)\r\n",
    "        \r\n",
    "        predicts = model(features)\r\n",
    "        loss = loss_fn(predicts, label=y)\r\n",
    "        avg_loss = paddle.mean(loss)\r\n",
    "        acc = accuracy_score((predicts > 0).astype(int).flatten(),y.flatten().astype(int))\r\n",
    "        val_acc.append(acc)\r\n",
    "        val_loss.append(avg_loss.numpy())\r\n",
    "\r\n",
    "    print(f'Epoch {epoch_id}, train acc {np.mean(train_acc)}, val acc {np.mean(val_acc)}')\r\n",
    "\r\n",
    "    test_data1 = paddle.to_tensor(xtest.values.astype(np.float32))\r\n",
    "    test_predict1 = model(test_data1)\r\n",
    "    test_predict1 = (test_predict1 > 0).astype(int).flatten()\r\n",
    "    print(accuracy_score(yytest1,test_predict1.numpy()))"
   ]
  },
  {
   "cell_type": "code",
   "execution_count": 17,
   "metadata": {
    "collapsed": false
   },
   "outputs": [],
   "source": [
    "model.eval()\n",
    "test_data = paddle.to_tensor(test_df.values.astype(np.float32))\n",
    "test_predict = model(test_data)\n",
    "test_predict = (test_predict > 0).astype(int).flatten()"
   ]
  },
  {
   "cell_type": "code",
   "execution_count": 28,
   "metadata": {
    "collapsed": false
   },
   "outputs": [
    {
     "data": {
      "text/plain": [
       "0.8454444444444444"
      ]
     },
     "execution_count": 28,
     "metadata": {},
     "output_type": "execute_result"
    }
   ],
   "source": [
    "# model.eval()\r\n",
    "# test_data1 = paddle.to_tensor(xtest.values.astype(np.float32))\r\n",
    "# test_predict1 = model(test_data1)\r\n",
    "# test_predict1 = (test_predict1 > 0).astype(int).flatten()\r\n",
    "# accuracy_score(yytest1,test_predict1.numpy())"
   ]
  },
  {
   "cell_type": "code",
   "execution_count": 12,
   "metadata": {
    "collapsed": false
   },
   "outputs": [
    {
     "data": {
      "text/plain": [
       "paddle.Tensor"
      ]
     },
     "execution_count": 12,
     "metadata": {},
     "output_type": "execute_result"
    }
   ],
   "source": [
    "# yytest = paddle.to_tensor(ytest.values.astype(np.float32))\r\n",
    "# yytest1 = (yytest > 0).astype(int).flatten()\r\n",
    "# type(yytest1)"
   ]
  },
  {
   "cell_type": "code",
   "execution_count": null,
   "metadata": {
    "collapsed": false
   },
   "outputs": [
    {
     "data": {
      "text/plain": [
       "0.4838148148148148"
      ]
     },
     "execution_count": null,
     "metadata": {},
     "output_type": "execute_result"
    }
   ],
   "source": [
    "# accuracy_score(yytest1,test_predict1.numpy())"
   ]
  },
  {
   "cell_type": "code",
   "execution_count": 16,
   "metadata": {
    "collapsed": false
   },
   "outputs": [
    {
     "data": {
      "text/plain": [
       "0.8452906841543517"
      ]
     },
     "execution_count": 16,
     "metadata": {},
     "output_type": "execute_result"
    }
   ],
   "source": [
    "# roc_auc_score(ytest,test_predict1.numpy())"
   ]
  },
  {
   "cell_type": "code",
   "execution_count": null,
   "metadata": {
    "collapsed": false
   },
   "outputs": [
    {
     "data": {
      "text/plain": [
       "(array([0.        , 0.00421006, 1.        ]),\n",
       " array([0.       , 0.0134834, 1.       ]),\n",
       " array([2, 1, 0], dtype=int64))"
      ]
     },
     "execution_count": null,
     "metadata": {},
     "output_type": "execute_result"
    }
   ],
   "source": [
    "# roc_curve(ytest,test_predict1)"
   ]
  },
  {
   "cell_type": "code",
   "execution_count": 18,
   "metadata": {
    "collapsed": false
   },
   "outputs": [
    {
     "name": "stdout",
     "output_type": "stream",
     "text": [
      "updating: submission.csv (deflated 90%)\r\n"
     ]
    }
   ],
   "source": [
    "pd.DataFrame({'win':\n",
    "              test_predict.numpy()\n",
    "             }).to_csv('submission.csv', index=None)\n",
    "\n",
    "!zip submission.zip submission.csv"
   ]
  },
  {
   "cell_type": "markdown",
   "metadata": {
    "collapsed": false
   },
   "source": [
    "## 总结与上分点\n",
    "\n",
    "1. 原始赛题字段存在关联，可以进一步提取交叉特征。\n",
    "2. 模型训练过程中可以加入验证集验证过程。"
   ]
  },
  {
   "cell_type": "code",
   "execution_count": null,
   "metadata": {
    "collapsed": false
   },
   "outputs": [],
   "source": []
  }
 ],
 "metadata": {
  "kernelspec": {
   "display_name": "Python 3",
   "language": "python",
   "name": "py35-paddle1.2.0"
  },
  "language_info": {
   "codemirror_mode": {
    "name": "ipython",
    "version": 3
   },
   "file_extension": ".py",
   "mimetype": "text/x-python",
   "name": "python",
   "nbconvert_exporter": "python",
   "pygments_lexer": "ipython3",
   "version": "3.7.4"
  }
 },
 "nbformat": 4,
 "nbformat_minor": 1
}
